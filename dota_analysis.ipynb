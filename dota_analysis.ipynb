{
 "cells": [
  {
   "cell_type": "markdown",
   "metadata": {},
   "source": [
    "# Exploratory analysis of Dota 2 tournament data\n",
    "\n",
    "Dota 2 is a multiplayer online battle arena (MOBA) video game developed and published by Valve Corporation. It is played in matches between two teams of five players, the _Radiant_ and the _Dire_, with each team occupying and defending their own separate base on the map. Each of the ten players independently controls a powerful character, known as a \"hero\", who all have unique abilities and differing styles of play. A team wins by being the first to destroy the other team's \"Ancient\", a large structure located within their base.<sup>[1]</sup>\n",
    "\n",
    "In this notebook, you will do some exploratory analysis of Dota's biggest tournament, [The International](https://en.wikipedia.org/wiki/The_International_(Dota_2)). The dataset provided has all the matches from the 2018 edition of the tournament.\n",
    "\n",
    "[1]: https://en.wikipedia.org/wiki/Dota_2"
   ]
  },
  {
   "cell_type": "markdown",
   "metadata": {},
   "source": [
    "## Draft stage\n",
    "\n",
    "Players select their hero during a pre-game drafting phase, where they can also discuss potential strategies and hero matchups with their teammates. Heroes are removed from the drafting pool and become unavailable for all other players once one is selected, and can not be changed once the drafting phase is over. During this stage, teams also **ban** heroes from the pool, so no team can select them."
   ]
  },
  {
   "cell_type": "markdown",
   "metadata": {},
   "source": [
    "## Loading the dataset"
   ]
  },
  {
   "cell_type": "code",
   "execution_count": 1,
   "metadata": {},
   "outputs": [
    {
     "data": {
      "text/html": [
       "<div>\n",
       "<style scoped>\n",
       "    .dataframe tbody tr th:only-of-type {\n",
       "        vertical-align: middle;\n",
       "    }\n",
       "\n",
       "    .dataframe tbody tr th {\n",
       "        vertical-align: top;\n",
       "    }\n",
       "\n",
       "    .dataframe thead th {\n",
       "        text-align: right;\n",
       "    }\n",
       "</style>\n",
       "<table border=\"1\" class=\"dataframe\">\n",
       "  <thead>\n",
       "    <tr style=\"text-align: right;\">\n",
       "      <th></th>\n",
       "      <th>match_id</th>\n",
       "      <th>date</th>\n",
       "      <th>duration</th>\n",
       "      <th>radiant_team</th>\n",
       "      <th>radiant_picks</th>\n",
       "      <th>radiant_bans</th>\n",
       "      <th>radiant_score</th>\n",
       "      <th>dire_team</th>\n",
       "      <th>dire_picks</th>\n",
       "      <th>dire_bans</th>\n",
       "      <th>dire_score</th>\n",
       "      <th>radiant_win</th>\n",
       "    </tr>\n",
       "  </thead>\n",
       "  <tbody>\n",
       "    <tr>\n",
       "      <th>0</th>\n",
       "      <td>4061660411</td>\n",
       "      <td>2018-08-15 16:02:15</td>\n",
       "      <td>3031</td>\n",
       "      <td>Fnatic</td>\n",
       "      <td>[Io, Gyrocopter, Bane, Tiny, Enigma]</td>\n",
       "      <td>[Chen, Nature's Prophet, Weaver, Enchantress, ...</td>\n",
       "      <td>41</td>\n",
       "      <td>Team Liquid</td>\n",
       "      <td>[Earthshaker, Crystal Maiden, Broodmother, Pug...</td>\n",
       "      <td>[Silencer, Necrophos, Meepo, Brewmaster, Kunkk...</td>\n",
       "      <td>42</td>\n",
       "      <td>False</td>\n",
       "    </tr>\n",
       "    <tr>\n",
       "      <th>1</th>\n",
       "      <td>4061662358</td>\n",
       "      <td>2018-08-15 16:03:47</td>\n",
       "      <td>3035</td>\n",
       "      <td>Evil Geniuses</td>\n",
       "      <td>[Phoenix, Ursa, Crystal Maiden, Clinkz, Alchem...</td>\n",
       "      <td>[Pugna, Tiny, Silencer, Dark Willow, Elder Tit...</td>\n",
       "      <td>49</td>\n",
       "      <td>VGJ Thunder</td>\n",
       "      <td>[Weaver, Vengeful Spirit, Wraith King, Winter ...</td>\n",
       "      <td>[Io, Necrophos, Enchantress, Rubick, Kunkka, S...</td>\n",
       "      <td>38</td>\n",
       "      <td>True</td>\n",
       "    </tr>\n",
       "    <tr>\n",
       "      <th>10</th>\n",
       "      <td>4061815647</td>\n",
       "      <td>2018-08-15 18:44:13</td>\n",
       "      <td>2457</td>\n",
       "      <td>Team Secret</td>\n",
       "      <td>[Necrophos, Pugna, Rubick, Ogre Magi, Dragon K...</td>\n",
       "      <td>[Silencer, Pudge, Enchantress, Mirana, Lycan, ...</td>\n",
       "      <td>14</td>\n",
       "      <td>Team Serenity</td>\n",
       "      <td>[Nyx Assassin, Clinkz, Crystal Maiden, Lina, T...</td>\n",
       "      <td>[Visage, Drow Ranger, Enigma, Arc Warden, Undy...</td>\n",
       "      <td>42</td>\n",
       "      <td>False</td>\n",
       "    </tr>\n",
       "    <tr>\n",
       "      <th>100</th>\n",
       "      <td>4065042825</td>\n",
       "      <td>2018-08-17 20:59:58</td>\n",
       "      <td>2314</td>\n",
       "      <td>Winstrike</td>\n",
       "      <td>[Nature's Prophet, Vengeful Spirit, Night Stal...</td>\n",
       "      <td>[Io, Broodmother, Enchantress, Necrophos, Weav...</td>\n",
       "      <td>19</td>\n",
       "      <td>Team Liquid</td>\n",
       "      <td>[Wraith King, Keeper of the Light, Chen, Drago...</td>\n",
       "      <td>[Clockwerk, Undying, Pugna, Drow Ranger, Phant...</td>\n",
       "      <td>25</td>\n",
       "      <td>False</td>\n",
       "    </tr>\n",
       "    <tr>\n",
       "      <th>101</th>\n",
       "      <td>4065077879</td>\n",
       "      <td>2018-08-17 21:41:14</td>\n",
       "      <td>2258</td>\n",
       "      <td>VGJ Thunder</td>\n",
       "      <td>[Silencer, Clinkz, Tiny, Dark Willow, Lycan]</td>\n",
       "      <td>[Io, Enchantress, Nature's Prophet, Pugna, Nec...</td>\n",
       "      <td>28</td>\n",
       "      <td>Mineski</td>\n",
       "      <td>[Wraith King, Mirana, Vengeful Spirit, Huskar,...</td>\n",
       "      <td>[Weaver, Terrorblade, Luna, Phantom Lancer, Un...</td>\n",
       "      <td>10</td>\n",
       "      <td>True</td>\n",
       "    </tr>\n",
       "  </tbody>\n",
       "</table>\n",
       "</div>"
      ],
      "text/plain": [
       "       match_id                date  duration   radiant_team  \\\n",
       "0    4061660411 2018-08-15 16:02:15      3031         Fnatic   \n",
       "1    4061662358 2018-08-15 16:03:47      3035  Evil Geniuses   \n",
       "10   4061815647 2018-08-15 18:44:13      2457    Team Secret   \n",
       "100  4065042825 2018-08-17 20:59:58      2314      Winstrike   \n",
       "101  4065077879 2018-08-17 21:41:14      2258    VGJ Thunder   \n",
       "\n",
       "                                         radiant_picks  \\\n",
       "0                 [Io, Gyrocopter, Bane, Tiny, Enigma]   \n",
       "1    [Phoenix, Ursa, Crystal Maiden, Clinkz, Alchem...   \n",
       "10   [Necrophos, Pugna, Rubick, Ogre Magi, Dragon K...   \n",
       "100  [Nature's Prophet, Vengeful Spirit, Night Stal...   \n",
       "101       [Silencer, Clinkz, Tiny, Dark Willow, Lycan]   \n",
       "\n",
       "                                          radiant_bans  radiant_score  \\\n",
       "0    [Chen, Nature's Prophet, Weaver, Enchantress, ...             41   \n",
       "1    [Pugna, Tiny, Silencer, Dark Willow, Elder Tit...             49   \n",
       "10   [Silencer, Pudge, Enchantress, Mirana, Lycan, ...             14   \n",
       "100  [Io, Broodmother, Enchantress, Necrophos, Weav...             19   \n",
       "101  [Io, Enchantress, Nature's Prophet, Pugna, Nec...             28   \n",
       "\n",
       "         dire_team                                         dire_picks  \\\n",
       "0      Team Liquid  [Earthshaker, Crystal Maiden, Broodmother, Pug...   \n",
       "1      VGJ Thunder  [Weaver, Vengeful Spirit, Wraith King, Winter ...   \n",
       "10   Team Serenity  [Nyx Assassin, Clinkz, Crystal Maiden, Lina, T...   \n",
       "100    Team Liquid  [Wraith King, Keeper of the Light, Chen, Drago...   \n",
       "101        Mineski  [Wraith King, Mirana, Vengeful Spirit, Huskar,...   \n",
       "\n",
       "                                             dire_bans  dire_score  \\\n",
       "0    [Silencer, Necrophos, Meepo, Brewmaster, Kunkk...          42   \n",
       "1    [Io, Necrophos, Enchantress, Rubick, Kunkka, S...          38   \n",
       "10   [Visage, Drow Ranger, Enigma, Arc Warden, Undy...          42   \n",
       "100  [Clockwerk, Undying, Pugna, Drow Ranger, Phant...          25   \n",
       "101  [Weaver, Terrorblade, Luna, Phantom Lancer, Un...          10   \n",
       "\n",
       "     radiant_win  \n",
       "0          False  \n",
       "1           True  \n",
       "10         False  \n",
       "100        False  \n",
       "101         True  "
      ]
     },
     "execution_count": 1,
     "metadata": {},
     "output_type": "execute_result"
    }
   ],
   "source": [
    "import pandas as pd\n",
    "\n",
    "df = pd.read_json(\"data/data.json\")\n",
    "df.head()"
   ]
  },
  {
   "cell_type": "markdown",
   "metadata": {},
   "source": [
    "The data contains serveral columns:\n",
    "\n",
    "- **Duration**: Match duration in seconds\n",
    "- **Radiant_team** / **Dire_team**: Name of the team that plays as the Radiant/Dire side\n",
    "- **Radiant_score** / **Dire_score**: The number of player kills for the Radiant/Dire side\n",
    "- **Radiant_picks** / **Dire_picks**: A list of the _drafted_ heroes by the Radiant/Dire side\n",
    "- **Radiant_bans** / **Dire_bans**: A list of the _banned_ heroes by the Radiant/Dire side\n",
    "- **Radiant_win**: `True` if match resulted in a Radiant victory, `False` when Dire won"
   ]
  },
  {
   "cell_type": "markdown",
   "metadata": {},
   "source": [
    "## First questions\n",
    "\n",
    "To answer these questions some standard operations with [`pandas`](https://pandas.pydata.org/pandas-docs/stable/reference/frame.html) should suffice."
   ]
  },
  {
   "cell_type": "markdown",
   "metadata": {},
   "source": [
    "#### 1. How many matches are in the dataset?"
   ]
  },
  {
   "cell_type": "code",
   "execution_count": 2,
   "metadata": {},
   "outputs": [],
   "source": [
    "total_matches = None ## Your answer here"
   ]
  },
  {
   "cell_type": "markdown",
   "metadata": {},
   "source": [
    "#### 2. How many wins by the Radiant side? How many wins by the Dire side?"
   ]
  },
  {
   "cell_type": "code",
   "execution_count": 3,
   "metadata": {},
   "outputs": [],
   "source": [
    "radiant_wins = None ## Your answer here\n",
    "dire_wins = None ## Your answer here"
   ]
  },
  {
   "cell_type": "markdown",
   "metadata": {},
   "source": [
    "#### 3. Find the longest and the shortest match in the tournament"
   ]
  },
  {
   "cell_type": "code",
   "execution_count": 4,
   "metadata": {},
   "outputs": [],
   "source": [
    "longest_match = None ## Your answer here\n",
    "shortest_match = None ## Your answer here"
   ]
  },
  {
   "cell_type": "markdown",
   "metadata": {},
   "source": [
    "#### 4. Which team won the most matches? Which won the least?"
   ]
  },
  {
   "cell_type": "code",
   "execution_count": 5,
   "metadata": {},
   "outputs": [],
   "source": [
    "most_wins = None ## Your answer here\n",
    "least_wins = None ## Your answer here"
   ]
  },
  {
   "cell_type": "markdown",
   "metadata": {},
   "source": [
    "#### 5. What was the last match played in the tournament? (Just return the match_id)"
   ]
  },
  {
   "cell_type": "code",
   "execution_count": 6,
   "metadata": {},
   "outputs": [],
   "source": [
    "last_match = None ## Your answer here"
   ]
  },
  {
   "cell_type": "markdown",
   "metadata": {},
   "source": [
    "#### 6. Match scores\n",
    "\n",
    "Find the following matches (if there are ties, just return a list of match_ids):  \n",
    "The Radiant kills are in the `radiant_score` column, Dire kills in the `dire_score` column.\n",
    "\n",
    "- Match with the most amount of kills in _total_\n",
    "- Match with the least amount of kills in _total_\n",
    "- Most lopsided match (the match with the highest difference between the score of the winner and the score of the loser)\n",
    "- Tightest match (where the score difference is the smallest)"
   ]
  },
  {
   "cell_type": "code",
   "execution_count": 7,
   "metadata": {},
   "outputs": [],
   "source": [
    "most_kills_match = None ## Your answer here\n",
    "least_kills_match = None ## Your answer here\n",
    "\n",
    "lopsided_match = None ## Your answer here\n",
    "tightest_match = None ## Your answer here"
   ]
  },
  {
   "cell_type": "markdown",
   "metadata": {},
   "source": [
    "## Plots\n",
    "\n",
    "To answer the following questions you can use any of the available plotting libraries (`matplotlib`, `seaborn`, `bokeh`, `plotly`)."
   ]
  },
  {
   "cell_type": "markdown",
   "metadata": {},
   "source": [
    "#### 7. Plot the number of wins per team"
   ]
  },
  {
   "cell_type": "code",
   "execution_count": 8,
   "metadata": {},
   "outputs": [],
   "source": [
    "# Change imports if using a different library\n",
    "\n",
    "%matplotlib inline\n",
    "import matplotlib.pyplot as plt\n",
    "\n",
    "# Your answer here"
   ]
  },
  {
   "cell_type": "markdown",
   "metadata": {},
   "source": [
    "#### 8. Plot a histogram of the total number of kills per match"
   ]
  },
  {
   "cell_type": "code",
   "execution_count": 9,
   "metadata": {},
   "outputs": [],
   "source": [
    "# Your answer here"
   ]
  },
  {
   "cell_type": "markdown",
   "metadata": {},
   "source": [
    "## Advanced questions\n",
    "\n",
    "These questions require more code. Feel free to add code cells with your own functions and even some brief explanations on how you intend to solve them."
   ]
  },
  {
   "cell_type": "markdown",
   "metadata": {},
   "source": [
    "#### 9. What are the top 3 heroes played on the Radiant side? Top 3 on the Dire?"
   ]
  },
  {
   "cell_type": "code",
   "execution_count": 10,
   "metadata": {},
   "outputs": [],
   "source": [
    "top_3_radiant = None ## Your answer here\n",
    "top_3_dire = None ## Your answer here"
   ]
  },
  {
   "cell_type": "markdown",
   "metadata": {},
   "source": [
    "#### 10. What is the winrate (number of matches won / total matches) for the Radiant/Dire when they draft _Weaver_\n",
    "\n",
    "Notice that the denominator is **not** the total number of matches in the dataset, but the number of matches where Weaver was picked for the Radiant/Dire."
   ]
  },
  {
   "cell_type": "code",
   "execution_count": 11,
   "metadata": {},
   "outputs": [],
   "source": [
    "radiant_weaver_winrate = None ## Your answer here\n",
    "dire_weaver_winrate = None ## Your answer here"
   ]
  }
 ],
 "metadata": {
  "kernelspec": {
   "display_name": "Python 3",
   "language": "python",
   "name": "python3"
  },
  "language_info": {
   "codemirror_mode": {
    "name": "ipython",
    "version": 3
   },
   "file_extension": ".py",
   "mimetype": "text/x-python",
   "name": "python",
   "nbconvert_exporter": "python",
   "pygments_lexer": "ipython3",
   "version": "3.6.7"
  }
 },
 "nbformat": 4,
 "nbformat_minor": 2
}
